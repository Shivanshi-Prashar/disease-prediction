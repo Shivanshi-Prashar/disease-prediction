{
  "cells": [
    {
      "cell_type": "code",
      "execution_count": null,
      "metadata": {
        "colab": {
          "base_uri": "https://localhost:8080/"
        },
        "id": "BNa97ZipEi1D",
        "outputId": "59542aed-4468-4b25-bc97-7859f8440bcc"
      },
      "outputs": [
        {
          "output_type": "stream",
          "name": "stdout",
          "text": [
            "Collecting ultralytics\n",
            "  Downloading ultralytics-8.3.132-py3-none-any.whl.metadata (37 kB)\n",
            "Requirement already satisfied: numpy>=1.23.0 in /usr/local/lib/python3.11/dist-packages (from ultralytics) (2.0.2)\n",
            "Requirement already satisfied: matplotlib>=3.3.0 in /usr/local/lib/python3.11/dist-packages (from ultralytics) (3.10.0)\n",
            "Requirement already satisfied: opencv-python>=4.6.0 in /usr/local/lib/python3.11/dist-packages (from ultralytics) (4.11.0.86)\n",
            "Requirement already satisfied: pillow>=7.1.2 in /usr/local/lib/python3.11/dist-packages (from ultralytics) (11.2.1)\n",
            "Requirement already satisfied: pyyaml>=5.3.1 in /usr/local/lib/python3.11/dist-packages (from ultralytics) (6.0.2)\n",
            "Requirement already satisfied: requests>=2.23.0 in /usr/local/lib/python3.11/dist-packages (from ultralytics) (2.32.3)\n",
            "Requirement already satisfied: scipy>=1.4.1 in /usr/local/lib/python3.11/dist-packages (from ultralytics) (1.15.2)\n",
            "Requirement already satisfied: torch>=1.8.0 in /usr/local/lib/python3.11/dist-packages (from ultralytics) (2.6.0+cu124)\n",
            "Requirement already satisfied: torchvision>=0.9.0 in /usr/local/lib/python3.11/dist-packages (from ultralytics) (0.21.0+cu124)\n",
            "Requirement already satisfied: tqdm>=4.64.0 in /usr/local/lib/python3.11/dist-packages (from ultralytics) (4.67.1)\n",
            "Requirement already satisfied: psutil in /usr/local/lib/python3.11/dist-packages (from ultralytics) (5.9.5)\n",
            "Requirement already satisfied: py-cpuinfo in /usr/local/lib/python3.11/dist-packages (from ultralytics) (9.0.0)\n",
            "Requirement already satisfied: pandas>=1.1.4 in /usr/local/lib/python3.11/dist-packages (from ultralytics) (2.2.2)\n",
            "Requirement already satisfied: seaborn>=0.11.0 in /usr/local/lib/python3.11/dist-packages (from ultralytics) (0.13.2)\n",
            "Collecting ultralytics-thop>=2.0.0 (from ultralytics)\n",
            "  Downloading ultralytics_thop-2.0.14-py3-none-any.whl.metadata (9.4 kB)\n",
            "Requirement already satisfied: contourpy>=1.0.1 in /usr/local/lib/python3.11/dist-packages (from matplotlib>=3.3.0->ultralytics) (1.3.2)\n",
            "Requirement already satisfied: cycler>=0.10 in /usr/local/lib/python3.11/dist-packages (from matplotlib>=3.3.0->ultralytics) (0.12.1)\n",
            "Requirement already satisfied: fonttools>=4.22.0 in /usr/local/lib/python3.11/dist-packages (from matplotlib>=3.3.0->ultralytics) (4.57.0)\n",
            "Requirement already satisfied: kiwisolver>=1.3.1 in /usr/local/lib/python3.11/dist-packages (from matplotlib>=3.3.0->ultralytics) (1.4.8)\n",
            "Requirement already satisfied: packaging>=20.0 in /usr/local/lib/python3.11/dist-packages (from matplotlib>=3.3.0->ultralytics) (24.2)\n",
            "Requirement already satisfied: pyparsing>=2.3.1 in /usr/local/lib/python3.11/dist-packages (from matplotlib>=3.3.0->ultralytics) (3.2.3)\n",
            "Requirement already satisfied: python-dateutil>=2.7 in /usr/local/lib/python3.11/dist-packages (from matplotlib>=3.3.0->ultralytics) (2.9.0.post0)\n",
            "Requirement already satisfied: pytz>=2020.1 in /usr/local/lib/python3.11/dist-packages (from pandas>=1.1.4->ultralytics) (2025.2)\n",
            "Requirement already satisfied: tzdata>=2022.7 in /usr/local/lib/python3.11/dist-packages (from pandas>=1.1.4->ultralytics) (2025.2)\n",
            "Requirement already satisfied: charset-normalizer<4,>=2 in /usr/local/lib/python3.11/dist-packages (from requests>=2.23.0->ultralytics) (3.4.1)\n",
            "Requirement already satisfied: idna<4,>=2.5 in /usr/local/lib/python3.11/dist-packages (from requests>=2.23.0->ultralytics) (3.10)\n",
            "Requirement already satisfied: urllib3<3,>=1.21.1 in /usr/local/lib/python3.11/dist-packages (from requests>=2.23.0->ultralytics) (2.4.0)\n",
            "Requirement already satisfied: certifi>=2017.4.17 in /usr/local/lib/python3.11/dist-packages (from requests>=2.23.0->ultralytics) (2025.4.26)\n",
            "Requirement already satisfied: filelock in /usr/local/lib/python3.11/dist-packages (from torch>=1.8.0->ultralytics) (3.18.0)\n",
            "Requirement already satisfied: typing-extensions>=4.10.0 in /usr/local/lib/python3.11/dist-packages (from torch>=1.8.0->ultralytics) (4.13.2)\n",
            "Requirement already satisfied: networkx in /usr/local/lib/python3.11/dist-packages (from torch>=1.8.0->ultralytics) (3.4.2)\n",
            "Requirement already satisfied: jinja2 in /usr/local/lib/python3.11/dist-packages (from torch>=1.8.0->ultralytics) (3.1.6)\n",
            "Requirement already satisfied: fsspec in /usr/local/lib/python3.11/dist-packages (from torch>=1.8.0->ultralytics) (2025.3.2)\n",
            "Collecting nvidia-cuda-nvrtc-cu12==12.4.127 (from torch>=1.8.0->ultralytics)\n",
            "  Downloading nvidia_cuda_nvrtc_cu12-12.4.127-py3-none-manylinux2014_x86_64.whl.metadata (1.5 kB)\n",
            "Collecting nvidia-cuda-runtime-cu12==12.4.127 (from torch>=1.8.0->ultralytics)\n",
            "  Downloading nvidia_cuda_runtime_cu12-12.4.127-py3-none-manylinux2014_x86_64.whl.metadata (1.5 kB)\n",
            "Collecting nvidia-cuda-cupti-cu12==12.4.127 (from torch>=1.8.0->ultralytics)\n",
            "  Downloading nvidia_cuda_cupti_cu12-12.4.127-py3-none-manylinux2014_x86_64.whl.metadata (1.6 kB)\n",
            "Collecting nvidia-cudnn-cu12==9.1.0.70 (from torch>=1.8.0->ultralytics)\n",
            "  Downloading nvidia_cudnn_cu12-9.1.0.70-py3-none-manylinux2014_x86_64.whl.metadata (1.6 kB)\n",
            "Collecting nvidia-cublas-cu12==12.4.5.8 (from torch>=1.8.0->ultralytics)\n",
            "  Downloading nvidia_cublas_cu12-12.4.5.8-py3-none-manylinux2014_x86_64.whl.metadata (1.5 kB)\n",
            "Collecting nvidia-cufft-cu12==11.2.1.3 (from torch>=1.8.0->ultralytics)\n",
            "  Downloading nvidia_cufft_cu12-11.2.1.3-py3-none-manylinux2014_x86_64.whl.metadata (1.5 kB)\n",
            "Collecting nvidia-curand-cu12==10.3.5.147 (from torch>=1.8.0->ultralytics)\n",
            "  Downloading nvidia_curand_cu12-10.3.5.147-py3-none-manylinux2014_x86_64.whl.metadata (1.5 kB)\n",
            "Collecting nvidia-cusolver-cu12==11.6.1.9 (from torch>=1.8.0->ultralytics)\n",
            "  Downloading nvidia_cusolver_cu12-11.6.1.9-py3-none-manylinux2014_x86_64.whl.metadata (1.6 kB)\n",
            "Collecting nvidia-cusparse-cu12==12.3.1.170 (from torch>=1.8.0->ultralytics)\n",
            "  Downloading nvidia_cusparse_cu12-12.3.1.170-py3-none-manylinux2014_x86_64.whl.metadata (1.6 kB)\n",
            "Requirement already satisfied: nvidia-cusparselt-cu12==0.6.2 in /usr/local/lib/python3.11/dist-packages (from torch>=1.8.0->ultralytics) (0.6.2)\n",
            "Requirement already satisfied: nvidia-nccl-cu12==2.21.5 in /usr/local/lib/python3.11/dist-packages (from torch>=1.8.0->ultralytics) (2.21.5)\n",
            "Requirement already satisfied: nvidia-nvtx-cu12==12.4.127 in /usr/local/lib/python3.11/dist-packages (from torch>=1.8.0->ultralytics) (12.4.127)\n",
            "Collecting nvidia-nvjitlink-cu12==12.4.127 (from torch>=1.8.0->ultralytics)\n",
            "  Downloading nvidia_nvjitlink_cu12-12.4.127-py3-none-manylinux2014_x86_64.whl.metadata (1.5 kB)\n",
            "Requirement already satisfied: triton==3.2.0 in /usr/local/lib/python3.11/dist-packages (from torch>=1.8.0->ultralytics) (3.2.0)\n",
            "Requirement already satisfied: sympy==1.13.1 in /usr/local/lib/python3.11/dist-packages (from torch>=1.8.0->ultralytics) (1.13.1)\n",
            "Requirement already satisfied: mpmath<1.4,>=1.1.0 in /usr/local/lib/python3.11/dist-packages (from sympy==1.13.1->torch>=1.8.0->ultralytics) (1.3.0)\n",
            "Requirement already satisfied: six>=1.5 in /usr/local/lib/python3.11/dist-packages (from python-dateutil>=2.7->matplotlib>=3.3.0->ultralytics) (1.17.0)\n",
            "Requirement already satisfied: MarkupSafe>=2.0 in /usr/local/lib/python3.11/dist-packages (from jinja2->torch>=1.8.0->ultralytics) (3.0.2)\n",
            "Downloading ultralytics-8.3.132-py3-none-any.whl (1.0 MB)\n",
            "\u001b[2K   \u001b[90m━━━━━━━━━━━━━━━━━━━━━━━━━━━━━━━━━━━━━━━━\u001b[0m \u001b[32m1.0/1.0 MB\u001b[0m \u001b[31m18.6 MB/s\u001b[0m eta \u001b[36m0:00:00\u001b[0m\n",
            "\u001b[?25hDownloading nvidia_cublas_cu12-12.4.5.8-py3-none-manylinux2014_x86_64.whl (363.4 MB)\n",
            "\u001b[2K   \u001b[90m━━━━━━━━━━━━━━━━━━━━━━━━━━━━━━━━━━━━━━━━\u001b[0m \u001b[32m363.4/363.4 MB\u001b[0m \u001b[31m4.3 MB/s\u001b[0m eta \u001b[36m0:00:00\u001b[0m\n",
            "\u001b[?25hDownloading nvidia_cuda_cupti_cu12-12.4.127-py3-none-manylinux2014_x86_64.whl (13.8 MB)\n",
            "\u001b[2K   \u001b[90m━━━━━━━━━━━━━━━━━━━━━━━━━━━━━━━━━━━━━━━━\u001b[0m \u001b[32m13.8/13.8 MB\u001b[0m \u001b[31m69.4 MB/s\u001b[0m eta \u001b[36m0:00:00\u001b[0m\n",
            "\u001b[?25hDownloading nvidia_cuda_nvrtc_cu12-12.4.127-py3-none-manylinux2014_x86_64.whl (24.6 MB)\n",
            "\u001b[2K   \u001b[90m━━━━━━━━━━━━━━━━━━━━━━━━━━━━━━━━━━━━━━━━\u001b[0m \u001b[32m24.6/24.6 MB\u001b[0m \u001b[31m64.8 MB/s\u001b[0m eta \u001b[36m0:00:00\u001b[0m\n",
            "\u001b[?25hDownloading nvidia_cuda_runtime_cu12-12.4.127-py3-none-manylinux2014_x86_64.whl (883 kB)\n",
            "\u001b[2K   \u001b[90m━━━━━━━━━━━━━━━━━━━━━━━━━━━━━━━━━━━━━━━━\u001b[0m \u001b[32m883.7/883.7 kB\u001b[0m \u001b[31m42.5 MB/s\u001b[0m eta \u001b[36m0:00:00\u001b[0m\n",
            "\u001b[?25hDownloading nvidia_cudnn_cu12-9.1.0.70-py3-none-manylinux2014_x86_64.whl (664.8 MB)\n",
            "\u001b[2K   \u001b[90m━━━━━━━━━━━━━━━━━━━━━━━━━━━━━━━━━━━━━━━━\u001b[0m \u001b[32m664.8/664.8 MB\u001b[0m \u001b[31m2.1 MB/s\u001b[0m eta \u001b[36m0:00:00\u001b[0m\n",
            "\u001b[?25hDownloading nvidia_cufft_cu12-11.2.1.3-py3-none-manylinux2014_x86_64.whl (211.5 MB)\n",
            "\u001b[2K   \u001b[90m━━━━━━━━━━━━━━━━━━━━━━━━━━━━━━━━━━━━━━━━\u001b[0m \u001b[32m211.5/211.5 MB\u001b[0m \u001b[31m5.2 MB/s\u001b[0m eta \u001b[36m0:00:00\u001b[0m\n",
            "\u001b[?25hDownloading nvidia_curand_cu12-10.3.5.147-py3-none-manylinux2014_x86_64.whl (56.3 MB)\n",
            "\u001b[2K   \u001b[90m━━━━━━━━━━━━━━━━━━━━━━━━━━━━━━━━━━━━━━━━\u001b[0m \u001b[32m56.3/56.3 MB\u001b[0m \u001b[31m13.0 MB/s\u001b[0m eta \u001b[36m0:00:00\u001b[0m\n",
            "\u001b[?25hDownloading nvidia_cusolver_cu12-11.6.1.9-py3-none-manylinux2014_x86_64.whl (127.9 MB)\n",
            "\u001b[2K   \u001b[90m━━━━━━━━━━━━━━━━━━━━━━━━━━━━━━━━━━━━━━━━\u001b[0m \u001b[32m127.9/127.9 MB\u001b[0m \u001b[31m7.5 MB/s\u001b[0m eta \u001b[36m0:00:00\u001b[0m\n",
            "\u001b[?25hDownloading nvidia_cusparse_cu12-12.3.1.170-py3-none-manylinux2014_x86_64.whl (207.5 MB)\n",
            "\u001b[2K   \u001b[90m━━━━━━━━━━━━━━━━━━━━━━━━━━━━━━━━━━━━━━━━\u001b[0m \u001b[32m207.5/207.5 MB\u001b[0m \u001b[31m5.5 MB/s\u001b[0m eta \u001b[36m0:00:00\u001b[0m\n",
            "\u001b[?25hDownloading nvidia_nvjitlink_cu12-12.4.127-py3-none-manylinux2014_x86_64.whl (21.1 MB)\n",
            "\u001b[2K   \u001b[90m━━━━━━━━━━━━━━━━━━━━━━━━━━━━━━━━━━━━━━━━\u001b[0m \u001b[32m21.1/21.1 MB\u001b[0m \u001b[31m91.9 MB/s\u001b[0m eta \u001b[36m0:00:00\u001b[0m\n",
            "\u001b[?25hDownloading ultralytics_thop-2.0.14-py3-none-any.whl (26 kB)\n",
            "Installing collected packages: nvidia-nvjitlink-cu12, nvidia-curand-cu12, nvidia-cufft-cu12, nvidia-cuda-runtime-cu12, nvidia-cuda-nvrtc-cu12, nvidia-cuda-cupti-cu12, nvidia-cublas-cu12, nvidia-cusparse-cu12, nvidia-cudnn-cu12, nvidia-cusolver-cu12, ultralytics-thop, ultralytics\n",
            "  Attempting uninstall: nvidia-nvjitlink-cu12\n",
            "    Found existing installation: nvidia-nvjitlink-cu12 12.5.82\n",
            "    Uninstalling nvidia-nvjitlink-cu12-12.5.82:\n",
            "      Successfully uninstalled nvidia-nvjitlink-cu12-12.5.82\n",
            "  Attempting uninstall: nvidia-curand-cu12\n",
            "    Found existing installation: nvidia-curand-cu12 10.3.6.82\n",
            "    Uninstalling nvidia-curand-cu12-10.3.6.82:\n",
            "      Successfully uninstalled nvidia-curand-cu12-10.3.6.82\n",
            "  Attempting uninstall: nvidia-cufft-cu12\n",
            "    Found existing installation: nvidia-cufft-cu12 11.2.3.61\n",
            "    Uninstalling nvidia-cufft-cu12-11.2.3.61:\n",
            "      Successfully uninstalled nvidia-cufft-cu12-11.2.3.61\n",
            "  Attempting uninstall: nvidia-cuda-runtime-cu12\n",
            "    Found existing installation: nvidia-cuda-runtime-cu12 12.5.82\n",
            "    Uninstalling nvidia-cuda-runtime-cu12-12.5.82:\n",
            "      Successfully uninstalled nvidia-cuda-runtime-cu12-12.5.82\n",
            "  Attempting uninstall: nvidia-cuda-nvrtc-cu12\n",
            "    Found existing installation: nvidia-cuda-nvrtc-cu12 12.5.82\n",
            "    Uninstalling nvidia-cuda-nvrtc-cu12-12.5.82:\n",
            "      Successfully uninstalled nvidia-cuda-nvrtc-cu12-12.5.82\n",
            "  Attempting uninstall: nvidia-cuda-cupti-cu12\n",
            "    Found existing installation: nvidia-cuda-cupti-cu12 12.5.82\n",
            "    Uninstalling nvidia-cuda-cupti-cu12-12.5.82:\n",
            "      Successfully uninstalled nvidia-cuda-cupti-cu12-12.5.82\n",
            "  Attempting uninstall: nvidia-cublas-cu12\n",
            "    Found existing installation: nvidia-cublas-cu12 12.5.3.2\n",
            "    Uninstalling nvidia-cublas-cu12-12.5.3.2:\n",
            "      Successfully uninstalled nvidia-cublas-cu12-12.5.3.2\n",
            "  Attempting uninstall: nvidia-cusparse-cu12\n",
            "    Found existing installation: nvidia-cusparse-cu12 12.5.1.3\n",
            "    Uninstalling nvidia-cusparse-cu12-12.5.1.3:\n",
            "      Successfully uninstalled nvidia-cusparse-cu12-12.5.1.3\n",
            "  Attempting uninstall: nvidia-cudnn-cu12\n",
            "    Found existing installation: nvidia-cudnn-cu12 9.3.0.75\n",
            "    Uninstalling nvidia-cudnn-cu12-9.3.0.75:\n",
            "      Successfully uninstalled nvidia-cudnn-cu12-9.3.0.75\n",
            "  Attempting uninstall: nvidia-cusolver-cu12\n",
            "    Found existing installation: nvidia-cusolver-cu12 11.6.3.83\n",
            "    Uninstalling nvidia-cusolver-cu12-11.6.3.83:\n",
            "      Successfully uninstalled nvidia-cusolver-cu12-11.6.3.83\n",
            "Successfully installed nvidia-cublas-cu12-12.4.5.8 nvidia-cuda-cupti-cu12-12.4.127 nvidia-cuda-nvrtc-cu12-12.4.127 nvidia-cuda-runtime-cu12-12.4.127 nvidia-cudnn-cu12-9.1.0.70 nvidia-cufft-cu12-11.2.1.3 nvidia-curand-cu12-10.3.5.147 nvidia-cusolver-cu12-11.6.1.9 nvidia-cusparse-cu12-12.3.1.170 nvidia-nvjitlink-cu12-12.4.127 ultralytics-8.3.132 ultralytics-thop-2.0.14\n"
          ]
        }
      ],
      "source": [
        "!pip install ultralytics"
      ]
    },
    {
      "cell_type": "code",
      "source": [
        "from google.colab import drive\n",
        "import zipfile\n",
        "\n",
        "# Mount Google Drive\n",
        "drive.mount('/content/drive')\n",
        "\n",
        "# Define the path to your dataset ZIP file on Drive\n",
        "zip_path = \"/content/drive/My Drive/Acne_06_4.zip\"  # Update with the correct path\n",
        "\n",
        "# Unzip the dataset into a new folder\n",
        "destination_path = \"/content/dataset/\"\n",
        "with zipfile.ZipFile(zip_path, 'r') as zip_ref:\n",
        "    zip_ref.extractall(destination_path)\n",
        "\n",
        "print(\"✅ Dataset successfully extracted to:\", destination_path)\n"
      ],
      "metadata": {
        "colab": {
          "base_uri": "https://localhost:8080/"
        },
        "id": "bcTRgFY0wWiU",
        "outputId": "80a9a60c-f789-4066-96b1-1ba78f5ee52f"
      },
      "execution_count": null,
      "outputs": [
        {
          "output_type": "stream",
          "name": "stdout",
          "text": [
            "Drive already mounted at /content/drive; to attempt to forcibly remount, call drive.mount(\"/content/drive\", force_remount=True).\n",
            "✅ Dataset successfully extracted to: /content/dataset/\n"
          ]
        }
      ]
    },
    {
      "cell_type": "code",
      "execution_count": null,
      "metadata": {
        "colab": {
          "base_uri": "https://localhost:8080/"
        },
        "id": "Z-RM5pzeEgPq",
        "outputId": "81231728-90b5-4875-c634-6806aad46a93"
      },
      "outputs": [
        {
          "output_type": "stream",
          "name": "stdout",
          "text": [
            "\n",
            "🔍 Evaluating at confidence threshold: 0.05\n",
            "Ultralytics 8.3.132 🚀 Python-3.11.12 torch-2.6.0+cu124 CUDA:0 (Tesla T4, 15095MiB)\n",
            "Model summary (fused): 112 layers, 43,611,234 parameters, 0 gradients, 164.8 GFLOPs\n",
            "\u001b[34m\u001b[1mval: \u001b[0mFast image access ✅ (ping: 0.0±0.0 ms, read: 1308.7±286.7 MB/s, size: 32.6 KB)\n"
          ]
        },
        {
          "output_type": "stream",
          "name": "stderr",
          "text": [
            "\u001b[34m\u001b[1mval: \u001b[0mScanning /content/dataset/Acne_06_4/valid/labels.cache... 1075 images, 1 backgrounds, 0 corrupt: 100%|██████████| 1075/1075 [00:00<?, ?it/s]\n",
            "                 Class     Images  Instances      Box(P          R      mAP50  mAP50-95): 100%|██████████| 68/68 [00:50<00:00,  1.34it/s]\n"
          ]
        },
        {
          "output_type": "stream",
          "name": "stdout",
          "text": [
            "                   all       1075       8517      0.489      0.482       0.44      0.213\n",
            "            blackheads        356        809      0.569      0.655      0.547      0.261\n",
            "             dark spot        507       2011      0.526      0.549      0.513      0.264\n",
            "               nodules        168       1266      0.432      0.282      0.275      0.111\n",
            "               papules        536       1500      0.542      0.578       0.55      0.296\n",
            "              pustules        293       1434      0.411      0.464      0.427      0.208\n",
            "            whiteheads        382       1497      0.453      0.367      0.326      0.137\n",
            "Speed: 0.3ms preprocess, 39.8ms inference, 0.0ms loss, 2.0ms postprocess per image\n",
            "Results saved to \u001b[1mruns/detect/val11\u001b[0m\n",
            "Precision (mp):     0.4888\n",
            "Recall (mr):        0.4824\n",
            "mAP@0.5:            0.4398\n",
            "mAP@0.5:0.95:       0.2127\n",
            "\n",
            "🔍 Evaluating at confidence threshold: 0.1\n",
            "Ultralytics 8.3.132 🚀 Python-3.11.12 torch-2.6.0+cu124 CUDA:0 (Tesla T4, 15095MiB)\n",
            "\u001b[34m\u001b[1mval: \u001b[0mFast image access ✅ (ping: 0.0±0.0 ms, read: 1179.7±351.8 MB/s, size: 40.6 KB)\n"
          ]
        },
        {
          "output_type": "stream",
          "name": "stderr",
          "text": [
            "\u001b[34m\u001b[1mval: \u001b[0mScanning /content/dataset/Acne_06_4/valid/labels.cache... 1075 images, 1 backgrounds, 0 corrupt: 100%|██████████| 1075/1075 [00:00<?, ?it/s]\n",
            "                 Class     Images  Instances      Box(P          R      mAP50  mAP50-95): 100%|██████████| 68/68 [00:49<00:00,  1.37it/s]\n"
          ]
        },
        {
          "output_type": "stream",
          "name": "stdout",
          "text": [
            "                   all       1075       8517      0.489      0.482      0.447      0.221\n",
            "            blackheads        356        809      0.569      0.655       0.55      0.267\n",
            "             dark spot        507       2011      0.526      0.549      0.517      0.272\n",
            "               nodules        168       1266      0.432      0.282      0.291      0.123\n",
            "               papules        536       1500      0.542      0.578      0.549      0.301\n",
            "              pustules        293       1434      0.411      0.464      0.436      0.218\n",
            "            whiteheads        382       1497      0.453      0.367       0.34      0.146\n",
            "Speed: 0.5ms preprocess, 38.6ms inference, 0.0ms loss, 1.5ms postprocess per image\n",
            "Results saved to \u001b[1mruns/detect/val12\u001b[0m\n",
            "Precision (mp):     0.4888\n",
            "Recall (mr):        0.4824\n",
            "mAP@0.5:            0.4473\n",
            "mAP@0.5:0.95:       0.2211\n",
            "\n",
            "🔍 Evaluating at confidence threshold: 0.25\n",
            "Ultralytics 8.3.132 🚀 Python-3.11.12 torch-2.6.0+cu124 CUDA:0 (Tesla T4, 15095MiB)\n",
            "\u001b[34m\u001b[1mval: \u001b[0mFast image access ✅ (ping: 0.0±0.0 ms, read: 1105.5±332.7 MB/s, size: 35.7 KB)\n"
          ]
        },
        {
          "output_type": "stream",
          "name": "stderr",
          "text": [
            "\u001b[34m\u001b[1mval: \u001b[0mScanning /content/dataset/Acne_06_4/valid/labels.cache... 1075 images, 1 backgrounds, 0 corrupt: 100%|██████████| 1075/1075 [00:00<?, ?it/s]\n",
            "                 Class     Images  Instances      Box(P          R      mAP50  mAP50-95): 100%|██████████| 68/68 [00:49<00:00,  1.39it/s]\n"
          ]
        },
        {
          "output_type": "stream",
          "name": "stdout",
          "text": [
            "                   all       1075       8517      0.489      0.482      0.457      0.236\n",
            "            blackheads        356        809      0.571      0.655      0.548      0.275\n",
            "             dark spot        507       2011      0.526      0.548       0.52      0.284\n",
            "               nodules        168       1266      0.432      0.281      0.326       0.15\n",
            "               papules        536       1500      0.542      0.578      0.546      0.308\n",
            "              pustules        293       1434      0.411      0.463      0.443      0.235\n",
            "            whiteheads        382       1497      0.454      0.366      0.357      0.163\n",
            "Speed: 0.2ms preprocess, 38.9ms inference, 0.0ms loss, 2.0ms postprocess per image\n",
            "Results saved to \u001b[1mruns/detect/val13\u001b[0m\n",
            "Precision (mp):     0.4893\n",
            "Recall (mr):        0.4820\n",
            "mAP@0.5:            0.4568\n",
            "mAP@0.5:0.95:       0.2359\n",
            "\n",
            "🔍 Evaluating at confidence threshold: 0.4\n",
            "Ultralytics 8.3.132 🚀 Python-3.11.12 torch-2.6.0+cu124 CUDA:0 (Tesla T4, 15095MiB)\n",
            "\u001b[34m\u001b[1mval: \u001b[0mFast image access ✅ (ping: 0.0±0.0 ms, read: 1112.9±359.7 MB/s, size: 35.7 KB)\n"
          ]
        },
        {
          "output_type": "stream",
          "name": "stderr",
          "text": [
            "\u001b[34m\u001b[1mval: \u001b[0mScanning /content/dataset/Acne_06_4/valid/labels.cache... 1075 images, 1 backgrounds, 0 corrupt: 100%|██████████| 1075/1075 [00:00<?, ?it/s]\n",
            "                 Class     Images  Instances      Box(P          R      mAP50  mAP50-95): 100%|██████████| 68/68 [00:49<00:00,  1.38it/s]\n"
          ]
        },
        {
          "output_type": "stream",
          "name": "stdout",
          "text": [
            "                   all       1075       8517      0.576      0.399       0.46      0.249\n",
            "            blackheads        356        809      0.629      0.567      0.534      0.275\n",
            "             dark spot        507       2011      0.604      0.486      0.521      0.294\n",
            "               nodules        168       1266      0.533      0.186      0.341      0.175\n",
            "               papules        536       1500      0.626      0.512      0.545      0.316\n",
            "              pustules        293       1434      0.528      0.363      0.455       0.26\n",
            "            whiteheads        382       1497      0.533       0.28      0.363      0.172\n",
            "Speed: 0.4ms preprocess, 39.4ms inference, 0.0ms loss, 1.4ms postprocess per image\n",
            "Results saved to \u001b[1mruns/detect/val14\u001b[0m\n",
            "Precision (mp):     0.5756\n",
            "Recall (mr):        0.3991\n",
            "mAP@0.5:            0.4598\n",
            "mAP@0.5:0.95:       0.2487\n",
            "\n",
            "🔍 Evaluating at confidence threshold: 0.5\n",
            "Ultralytics 8.3.132 🚀 Python-3.11.12 torch-2.6.0+cu124 CUDA:0 (Tesla T4, 15095MiB)\n",
            "\u001b[34m\u001b[1mval: \u001b[0mFast image access ✅ (ping: 0.0±0.0 ms, read: 1267.5±331.9 MB/s, size: 35.8 KB)\n"
          ]
        },
        {
          "output_type": "stream",
          "name": "stderr",
          "text": [
            "\u001b[34m\u001b[1mval: \u001b[0mScanning /content/dataset/Acne_06_4/valid/labels.cache... 1075 images, 1 backgrounds, 0 corrupt: 100%|██████████| 1075/1075 [00:00<?, ?it/s]\n",
            "                 Class     Images  Instances      Box(P          R      mAP50  mAP50-95): 100%|██████████| 68/68 [00:48<00:00,  1.39it/s]\n"
          ]
        },
        {
          "output_type": "stream",
          "name": "stdout",
          "text": [
            "                   all       1075       8517      0.624      0.341      0.458      0.257\n",
            "            blackheads        356        809      0.657      0.482      0.513      0.271\n",
            "             dark spot        507       2011       0.65      0.433      0.517      0.298\n",
            "               nodules        168       1266       0.56      0.125      0.336      0.191\n",
            "               papules        536       1500       0.67      0.464      0.541      0.319\n",
            "              pustules        293       1434      0.622      0.317      0.473      0.282\n",
            "            whiteheads        382       1497      0.585      0.222      0.366       0.18\n",
            "Speed: 0.5ms preprocess, 39.4ms inference, 0.0ms loss, 1.7ms postprocess per image\n",
            "Results saved to \u001b[1mruns/detect/val15\u001b[0m\n",
            "Precision (mp):     0.6238\n",
            "Recall (mr):        0.3406\n",
            "mAP@0.5:            0.4576\n",
            "mAP@0.5:0.95:       0.2569\n",
            "\n",
            "🔍 Evaluating at confidence threshold: 0.6\n",
            "Ultralytics 8.3.132 🚀 Python-3.11.12 torch-2.6.0+cu124 CUDA:0 (Tesla T4, 15095MiB)\n",
            "\u001b[34m\u001b[1mval: \u001b[0mFast image access ✅ (ping: 0.0±0.0 ms, read: 1067.0±401.5 MB/s, size: 39.6 KB)\n"
          ]
        },
        {
          "output_type": "stream",
          "name": "stderr",
          "text": [
            "\u001b[34m\u001b[1mval: \u001b[0mScanning /content/dataset/Acne_06_4/valid/labels.cache... 1075 images, 1 backgrounds, 0 corrupt: 100%|██████████| 1075/1075 [00:00<?, ?it/s]\n",
            "                 Class     Images  Instances      Box(P          R      mAP50  mAP50-95): 100%|██████████| 68/68 [00:48<00:00,  1.41it/s]\n"
          ]
        },
        {
          "output_type": "stream",
          "name": "stdout",
          "text": [
            "                   all       1075       8517      0.681       0.28      0.458      0.268\n",
            "            blackheads        356        809      0.695      0.383       0.49      0.265\n",
            "             dark spot        507       2011      0.693      0.379      0.511      0.302\n",
            "               nodules        168       1266      0.652     0.0932      0.368      0.231\n",
            "               papules        536       1500       0.71      0.399       0.53      0.322\n",
            "              pustules        293       1434      0.729      0.278      0.497      0.307\n",
            "            whiteheads        382       1497      0.606      0.146      0.351      0.179\n",
            "Speed: 0.3ms preprocess, 39.2ms inference, 0.0ms loss, 1.0ms postprocess per image\n",
            "Results saved to \u001b[1mruns/detect/val16\u001b[0m\n",
            "Precision (mp):     0.6808\n",
            "Recall (mr):        0.2796\n",
            "mAP@0.5:            0.4578\n",
            "mAP@0.5:0.95:       0.2677\n"
          ]
        }
      ],
      "source": [
        "from ultralytics import YOLO\n",
        "\n",
        "# Load your trained model\n",
        "model = YOLO(\"/content/best (6).pt\")  # Replace with your model path\n",
        "\n",
        "# Path to dataset config\n",
        "data_yaml = \"/content/data.yaml\"\n",
        "\n",
        "confidence_thresholds = [0.05, 0.1, 0.25, 0.4, 0.5, 0.6]\n",
        "\n",
        "# Loop through thresholds and evaluate\n",
        "for conf_thresh in confidence_thresholds:\n",
        "    print(f\"\\n🔍 Evaluating at confidence threshold: {conf_thresh}\")\n",
        "\n",
        "    # Set the confidence threshold\n",
        "    model.conf = conf_thresh\n",
        "\n",
        "    # Run validation\n",
        "    metrics = model.val(data=data_yaml, conf=conf_thresh, split=\"val\")\n",
        "\n",
        "    # Get overall metrics using mean_results()\n",
        "    mp, mr, map50, map5095 = metrics.box.mean_results()\n",
        "\n",
        "    # Print them\n",
        "    print(f\"Precision (mp):     {mp:.4f}\")\n",
        "    print(f\"Recall (mr):        {mr:.4f}\")\n",
        "    print(f\"mAP@0.5:            {map50:.4f}\")\n",
        "    print(f\"mAP@0.5:0.95:       {map5095:.4f}\")"
      ]
    },
    {
      "cell_type": "code",
      "source": [
        "from ultralytics import YOLO\n",
        "\n",
        "# Load your trained model\n",
        "model = YOLO(\"/content/best (6).pt\")  # Replace with your model path\n",
        "\n",
        "# Path to dataset config\n",
        "data_yaml = \"/content/data.yaml\"\n",
        "\n",
        "confidence_thresholds = [0.05, 0.1, 0.25, 0.4, 0.5, 0.6]\n",
        "\n",
        "# Loop through thresholds and evaluate\n",
        "for conf_thresh in confidence_thresholds:\n",
        "    print(f\"\\n🔍 Evaluating at confidence threshold: {conf_thresh}\")\n",
        "\n",
        "    # Set the confidence threshold\n",
        "    model.conf = conf_thresh\n",
        "\n",
        "    # Run validation\n",
        "    metrics = model.val(data=data_yaml, conf=conf_thresh, split=\"test\")\n",
        "\n",
        "    # Get overall metrics using mean_results()\n",
        "    mp, mr, map50, map5095 = metrics.box.mean_results()\n",
        "\n",
        "    # Print them\n",
        "    print(f\"Precision (mp):     {mp:.4f}\")\n",
        "    print(f\"Recall (mr):        {mr:.4f}\")\n",
        "    print(f\"mAP@0.5:            {map50:.4f}\")\n",
        "    print(f\"mAP@0.5:0.95:       {map5095:.4f}\")"
      ],
      "metadata": {
        "colab": {
          "base_uri": "https://localhost:8080/"
        },
        "id": "boGn1evz24OY",
        "outputId": "967bd7fc-0d0e-4e1e-8719-4b723e585dd2"
      },
      "execution_count": null,
      "outputs": [
        {
          "output_type": "stream",
          "name": "stdout",
          "text": [
            "\n",
            "🔍 Evaluating at confidence threshold: 0.05\n",
            "Ultralytics 8.3.132 🚀 Python-3.11.12 torch-2.6.0+cu124 CUDA:0 (Tesla T4, 15095MiB)\n",
            "Model summary (fused): 112 layers, 43,611,234 parameters, 0 gradients, 164.8 GFLOPs\n",
            "\u001b[34m\u001b[1mval: \u001b[0mFast image access ✅ (ping: 0.0±0.0 ms, read: 695.8±231.2 MB/s, size: 42.9 KB)\n"
          ]
        },
        {
          "output_type": "stream",
          "name": "stderr",
          "text": [
            "\u001b[34m\u001b[1mval: \u001b[0mScanning /content/dataset/Acne_06_4/test/labels... 569 images, 1 backgrounds, 0 corrupt: 100%|██████████| 569/569 [00:00<00:00, 1819.91it/s]"
          ]
        },
        {
          "output_type": "stream",
          "name": "stdout",
          "text": [
            "\u001b[34m\u001b[1mval: \u001b[0mNew cache created: /content/dataset/Acne_06_4/test/labels.cache\n"
          ]
        },
        {
          "output_type": "stream",
          "name": "stderr",
          "text": [
            "\n",
            "                 Class     Images  Instances      Box(P          R      mAP50  mAP50-95): 100%|██████████| 36/36 [00:27<00:00,  1.31it/s]\n"
          ]
        },
        {
          "output_type": "stream",
          "name": "stdout",
          "text": [
            "                   all        569       4824      0.595      0.521      0.528      0.291\n",
            "            blackheads        153        463       0.61      0.749      0.661      0.349\n",
            "             dark spot        231       1367       0.65      0.489      0.538      0.297\n",
            "               nodules        105        540      0.549      0.293      0.345      0.213\n",
            "               papules        276        938      0.633      0.646      0.648       0.39\n",
            "              pustules        178        634      0.542      0.462       0.49      0.262\n",
            "            whiteheads        176        882      0.582      0.485      0.487      0.234\n",
            "Speed: 1.0ms preprocess, 38.8ms inference, 0.0ms loss, 2.4ms postprocess per image\n",
            "Results saved to \u001b[1mruns/detect/val17\u001b[0m\n",
            "Precision (mp):     0.5945\n",
            "Recall (mr):        0.5208\n",
            "mAP@0.5:            0.5284\n",
            "mAP@0.5:0.95:       0.2908\n",
            "\n",
            "🔍 Evaluating at confidence threshold: 0.1\n",
            "Ultralytics 8.3.132 🚀 Python-3.11.12 torch-2.6.0+cu124 CUDA:0 (Tesla T4, 15095MiB)\n",
            "\u001b[34m\u001b[1mval: \u001b[0mFast image access ✅ (ping: 0.0±0.0 ms, read: 1080.2±275.6 MB/s, size: 39.0 KB)\n"
          ]
        },
        {
          "output_type": "stream",
          "name": "stderr",
          "text": [
            "\u001b[34m\u001b[1mval: \u001b[0mScanning /content/dataset/Acne_06_4/test/labels.cache... 569 images, 1 backgrounds, 0 corrupt: 100%|██████████| 569/569 [00:00<?, ?it/s]\n",
            "                 Class     Images  Instances      Box(P          R      mAP50  mAP50-95): 100%|██████████| 36/36 [00:27<00:00,  1.32it/s]\n"
          ]
        },
        {
          "output_type": "stream",
          "name": "stdout",
          "text": [
            "                   all        569       4824      0.595      0.521      0.539      0.302\n",
            "            blackheads        153        463       0.61      0.749      0.667      0.358\n",
            "             dark spot        231       1367       0.65      0.489      0.547       0.31\n",
            "               nodules        105        540      0.549      0.293      0.368      0.232\n",
            "               papules        276        938      0.633      0.646      0.652      0.397\n",
            "              pustules        178        634      0.542      0.462      0.499      0.272\n",
            "            whiteheads        176        882      0.582      0.485      0.501      0.246\n",
            "Speed: 1.0ms preprocess, 39.0ms inference, 0.0ms loss, 1.6ms postprocess per image\n",
            "Results saved to \u001b[1mruns/detect/val18\u001b[0m\n",
            "Precision (mp):     0.5945\n",
            "Recall (mr):        0.5208\n",
            "mAP@0.5:            0.5389\n",
            "mAP@0.5:0.95:       0.3024\n",
            "\n",
            "🔍 Evaluating at confidence threshold: 0.25\n",
            "Ultralytics 8.3.132 🚀 Python-3.11.12 torch-2.6.0+cu124 CUDA:0 (Tesla T4, 15095MiB)\n",
            "\u001b[34m\u001b[1mval: \u001b[0mFast image access ✅ (ping: 0.0±0.0 ms, read: 1015.9±274.5 MB/s, size: 34.0 KB)\n"
          ]
        },
        {
          "output_type": "stream",
          "name": "stderr",
          "text": [
            "\u001b[34m\u001b[1mval: \u001b[0mScanning /content/dataset/Acne_06_4/test/labels.cache... 569 images, 1 backgrounds, 0 corrupt: 100%|██████████| 569/569 [00:00<?, ?it/s]\n",
            "                 Class     Images  Instances      Box(P          R      mAP50  mAP50-95): 100%|██████████| 36/36 [00:27<00:00,  1.31it/s]\n"
          ]
        },
        {
          "output_type": "stream",
          "name": "stdout",
          "text": [
            "                   all        569       4824      0.595      0.521      0.553      0.322\n",
            "            blackheads        153        463       0.61      0.749      0.667      0.368\n",
            "             dark spot        231       1367       0.65      0.489       0.56      0.328\n",
            "               nodules        105        540      0.549      0.293      0.411      0.274\n",
            "               papules        276        938      0.633      0.646      0.652      0.408\n",
            "              pustules        178        634      0.542      0.462      0.511      0.291\n",
            "            whiteheads        176        882      0.582      0.485      0.518      0.265\n",
            "Speed: 1.2ms preprocess, 38.6ms inference, 0.0ms loss, 1.6ms postprocess per image\n",
            "Results saved to \u001b[1mruns/detect/val19\u001b[0m\n",
            "Precision (mp):     0.5945\n",
            "Recall (mr):        0.5208\n",
            "mAP@0.5:            0.5529\n",
            "mAP@0.5:0.95:       0.3224\n",
            "\n",
            "🔍 Evaluating at confidence threshold: 0.4\n",
            "Ultralytics 8.3.132 🚀 Python-3.11.12 torch-2.6.0+cu124 CUDA:0 (Tesla T4, 15095MiB)\n",
            "\u001b[34m\u001b[1mval: \u001b[0mFast image access ✅ (ping: 0.0±0.0 ms, read: 876.7±279.1 MB/s, size: 37.8 KB)\n"
          ]
        },
        {
          "output_type": "stream",
          "name": "stderr",
          "text": [
            "\u001b[34m\u001b[1mval: \u001b[0mScanning /content/dataset/Acne_06_4/test/labels.cache... 569 images, 1 backgrounds, 0 corrupt: 100%|██████████| 569/569 [00:00<?, ?it/s]\n",
            "                 Class     Images  Instances      Box(P          R      mAP50  mAP50-95): 100%|██████████| 36/36 [00:27<00:00,  1.31it/s]\n"
          ]
        },
        {
          "output_type": "stream",
          "name": "stdout",
          "text": [
            "                   all        569       4824       0.62      0.504      0.561      0.338\n",
            "            blackheads        153        463      0.627      0.732      0.656      0.368\n",
            "             dark spot        231       1367      0.672      0.479      0.567      0.343\n",
            "               nodules        105        540      0.589      0.289      0.454      0.314\n",
            "               papules        276        938      0.645      0.626      0.645      0.412\n",
            "              pustules        178        634      0.583      0.442      0.531      0.317\n",
            "            whiteheads        176        882      0.606      0.458      0.516      0.275\n",
            "Speed: 0.5ms preprocess, 39.7ms inference, 0.0ms loss, 1.6ms postprocess per image\n",
            "Results saved to \u001b[1mruns/detect/val20\u001b[0m\n",
            "Precision (mp):     0.6202\n",
            "Recall (mr):        0.5043\n",
            "mAP@0.5:            0.5614\n",
            "mAP@0.5:0.95:       0.3382\n",
            "\n",
            "🔍 Evaluating at confidence threshold: 0.5\n",
            "Ultralytics 8.3.132 🚀 Python-3.11.12 torch-2.6.0+cu124 CUDA:0 (Tesla T4, 15095MiB)\n",
            "\u001b[34m\u001b[1mval: \u001b[0mFast image access ✅ (ping: 0.0±0.0 ms, read: 985.9±259.5 MB/s, size: 40.8 KB)\n"
          ]
        },
        {
          "output_type": "stream",
          "name": "stderr",
          "text": [
            "\u001b[34m\u001b[1mval: \u001b[0mScanning /content/dataset/Acne_06_4/test/labels.cache... 569 images, 1 backgrounds, 0 corrupt: 100%|██████████| 569/569 [00:00<?, ?it/s]\n",
            "                 Class     Images  Instances      Box(P          R      mAP50  mAP50-95): 100%|██████████| 36/36 [00:26<00:00,  1.36it/s]\n"
          ]
        },
        {
          "output_type": "stream",
          "name": "stdout",
          "text": [
            "                   all        569       4824      0.684      0.456      0.563      0.348\n",
            "            blackheads        153        463      0.683       0.65      0.637      0.367\n",
            "             dark spot        231       1367      0.718      0.442      0.566       0.35\n",
            "               nodules        105        540      0.668      0.257      0.473      0.339\n",
            "               papules        276        938      0.694      0.595      0.644      0.419\n",
            "              pustules        178        634      0.672      0.397      0.543      0.334\n",
            "            whiteheads        176        882      0.671      0.393      0.514      0.282\n",
            "Speed: 0.5ms preprocess, 38.9ms inference, 0.0ms loss, 2.3ms postprocess per image\n",
            "Results saved to \u001b[1mruns/detect/val21\u001b[0m\n",
            "Precision (mp):     0.6844\n",
            "Recall (mr):        0.4559\n",
            "mAP@0.5:            0.5630\n",
            "mAP@0.5:0.95:       0.3484\n",
            "\n",
            "🔍 Evaluating at confidence threshold: 0.6\n",
            "Ultralytics 8.3.132 🚀 Python-3.11.12 torch-2.6.0+cu124 CUDA:0 (Tesla T4, 15095MiB)\n",
            "\u001b[34m\u001b[1mval: \u001b[0mFast image access ✅ (ping: 0.0±0.0 ms, read: 1146.8±355.7 MB/s, size: 34.3 KB)\n"
          ]
        },
        {
          "output_type": "stream",
          "name": "stderr",
          "text": [
            "\u001b[34m\u001b[1mval: \u001b[0mScanning /content/dataset/Acne_06_4/test/labels.cache... 569 images, 1 backgrounds, 0 corrupt: 100%|██████████| 569/569 [00:00<?, ?it/s]\n",
            "                 Class     Images  Instances      Box(P          R      mAP50  mAP50-95): 100%|██████████| 36/36 [00:26<00:00,  1.37it/s]\n"
          ]
        },
        {
          "output_type": "stream",
          "name": "stdout",
          "text": [
            "                   all        569       4824      0.747      0.395       0.56      0.357\n",
            "            blackheads        153        463       0.72      0.538      0.605      0.357\n",
            "             dark spot        231       1367      0.759      0.388      0.558      0.352\n",
            "               nodules        105        540      0.767      0.231      0.501       0.37\n",
            "               papules        276        938      0.747      0.546      0.638      0.423\n",
            "              pustules        178        634      0.742      0.353      0.549      0.345\n",
            "            whiteheads        176        882      0.744      0.316       0.51      0.294\n",
            "Speed: 0.9ms preprocess, 39.0ms inference, 0.0ms loss, 1.5ms postprocess per image\n",
            "Results saved to \u001b[1mruns/detect/val22\u001b[0m\n",
            "Precision (mp):     0.7465\n",
            "Recall (mr):        0.3954\n",
            "mAP@0.5:            0.5602\n",
            "mAP@0.5:0.95:       0.3567\n"
          ]
        }
      ]
    },
    {
      "cell_type": "code",
      "source": [
        "from ultralytics import YOLO\n",
        "\n",
        "# Load your trained model\n",
        "model = YOLO(\"/content/best (6).pt\")  # Replace with your model path\n",
        "\n",
        "# Path to dataset config\n",
        "data_yaml = \"/content/data.yaml\"\n",
        "\n",
        "confidence_thresholds = [0.05, 0.1, 0.25, 0.4, 0.5, 0.6]\n",
        "\n",
        "# Loop through thresholds and evaluate\n",
        "for conf_thresh in confidence_thresholds:\n",
        "    print(f\"\\n🔍 Evaluating at confidence threshold: {conf_thresh}\")\n",
        "\n",
        "    # Set the confidence threshold\n",
        "    model.conf = conf_thresh\n",
        "\n",
        "    # Run validation\n",
        "    metrics = model.val(data=data_yaml, conf=conf_thresh, split=\"train\")\n",
        "\n",
        "    # Get overall metrics using mean_results()\n",
        "    mp, mr, map50, map5095 = metrics.box.mean_results()\n",
        "\n",
        "    # Print them\n",
        "    print(f\"Precision (mp):     {mp:.4f}\")\n",
        "    print(f\"Recall (mr):        {mr:.4f}\")\n",
        "    print(f\"mAP@0.5:            {map50:.4f}\")\n",
        "    print(f\"mAP@0.5:0.95:       {map5095:.4f}\")"
      ],
      "metadata": {
        "colab": {
          "base_uri": "https://localhost:8080/"
        },
        "id": "UJ5SFN0O6Hlp",
        "outputId": "1a224d91-d4fb-4508-a099-2caa342d2b69"
      },
      "execution_count": null,
      "outputs": [
        {
          "output_type": "stream",
          "name": "stdout",
          "text": [
            "\n",
            "🔍 Evaluating at confidence threshold: 0.05\n",
            "Ultralytics 8.3.132 🚀 Python-3.11.12 torch-2.6.0+cu124 CUDA:0 (Tesla T4, 15095MiB)\n",
            "Model summary (fused): 112 layers, 43,611,234 parameters, 0 gradients, 164.8 GFLOPs\n",
            "\u001b[34m\u001b[1mval: \u001b[0mFast image access ✅ (ping: 0.0±0.0 ms, read: 967.2±373.3 MB/s, size: 43.3 KB)\n"
          ]
        },
        {
          "output_type": "stream",
          "name": "stderr",
          "text": [
            "\u001b[34m\u001b[1mval: \u001b[0mScanning /content/dataset/Acne_06_4/train/labels... 11946 images, 39 backgrounds, 11 corrupt: 100%|██████████| 11946/11946 [00:05<00:00, 2048.77it/s]"
          ]
        },
        {
          "output_type": "stream",
          "name": "stdout",
          "text": [
            "\u001b[34m\u001b[1mval: \u001b[0m/content/dataset/Acne_06_4/train/images/Grade1_24March_1084.jpg: 1 duplicate labels removed\n",
            "\u001b[34m\u001b[1mval: \u001b[0m/content/dataset/Acne_06_4/train/images/Grade1_24March_118.jpg: ignoring corrupt image/label: non-normalized or out of bounds coordinates [     1.2355]\n",
            "\u001b[34m\u001b[1mval: \u001b[0m/content/dataset/Acne_06_4/train/images/Grade1_24March_120.jpg: ignoring corrupt image/label: non-normalized or out of bounds coordinates [     1.5803      1.1974      1.3882      1.3211      1.3513      1.2882]\n",
            "\u001b[34m\u001b[1mval: \u001b[0m/content/dataset/Acne_06_4/train/images/Grade1_24March_126.jpg: ignoring corrupt image/label: non-normalized or out of bounds coordinates [     1.1737      1.4684       1.125         1.5      1.9171]\n",
            "\u001b[34m\u001b[1mval: \u001b[0m/content/dataset/Acne_06_4/train/images/Grade1_24March_146.jpg: ignoring corrupt image/label: non-normalized or out of bounds coordinates [     1.1763      1.3289      1.1461         1.9      1.1684      1.5197]\n",
            "\u001b[34m\u001b[1mval: \u001b[0m/content/dataset/Acne_06_4/train/images/Grade1_24March_191.jpg: ignoring corrupt image/label: non-normalized or out of bounds coordinates [     1.1263      1.2829      1.1671      1.5053      1.3461      1.2421]\n",
            "\u001b[34m\u001b[1mval: \u001b[0m/content/dataset/Acne_06_4/train/images/Grade1_24March_211.jpg: ignoring corrupt image/label: non-normalized or out of bounds coordinates [     2.0171         1.9      1.6105      1.6237      1.7276      1.7395      1.9408      1.4947      1.5158      1.9671]\n",
            "\u001b[34m\u001b[1mval: \u001b[0m/content/dataset/Acne_06_4/train/images/Grade1_24March_231.jpg: ignoring corrupt image/label: non-normalized or out of bounds coordinates [     1.3632      1.4013      1.1829      1.4553      1.1553      1.6276      1.1408      1.9592      1.3039      1.5605      1.6882      1.6658      1.5632      1.3711]\n",
            "\u001b[34m\u001b[1mval: \u001b[0m/content/dataset/Acne_06_4/train/images/Grade1_24March_245.jpg: ignoring corrupt image/label: non-normalized or out of bounds coordinates [     1.8816      1.2632      1.5408      1.3184      1.8316         1.1      1.8158]\n",
            "\u001b[34m\u001b[1mval: \u001b[0m/content/dataset/Acne_06_4/train/images/Grade1_24March_247.jpg: ignoring corrupt image/label: non-normalized or out of bounds coordinates [     1.8947      1.9632      1.8316      1.1105      1.9171]\n",
            "\u001b[34m\u001b[1mval: \u001b[0m/content/dataset/Acne_06_4/train/images/Grade1_24March_35.jpg: ignoring corrupt image/label: negative label values [  -0.002632]\n",
            "\u001b[34m\u001b[1mval: \u001b[0m/content/dataset/Acne_06_4/train/images/Grade1_24March_404.jpg: ignoring corrupt image/label: non-normalized or out of bounds coordinates [     1.0013]\n"
          ]
        },
        {
          "output_type": "stream",
          "name": "stderr",
          "text": [
            "\n"
          ]
        },
        {
          "output_type": "stream",
          "name": "stdout",
          "text": [
            "\u001b[34m\u001b[1mval: \u001b[0mNew cache created: /content/dataset/Acne_06_4/train/labels.cache\n"
          ]
        },
        {
          "output_type": "stream",
          "name": "stderr",
          "text": [
            "                 Class     Images  Instances      Box(P          R      mAP50  mAP50-95): 100%|██████████| 746/746 [08:51<00:00,  1.40it/s]\n"
          ]
        },
        {
          "output_type": "stream",
          "name": "stdout",
          "text": [
            "                   all      11935     101427      0.705      0.666      0.721      0.393\n",
            "            blackheads       3910      10358       0.74      0.659      0.737        0.4\n",
            "             dark spot       4720      20274      0.744      0.834      0.856      0.521\n",
            "               nodules       1810      20781      0.668      0.534      0.602      0.274\n",
            "               papules       5884      16840      0.762      0.839      0.869      0.536\n",
            "              pustules       3858      19419       0.66      0.612      0.677      0.344\n",
            "            whiteheads       3604      13755      0.655      0.516      0.584      0.282\n",
            "Speed: 0.2ms preprocess, 38.5ms inference, 0.0ms loss, 1.0ms postprocess per image\n",
            "Results saved to \u001b[1mruns/detect/val23\u001b[0m\n",
            "Precision (mp):     0.7050\n",
            "Recall (mr):        0.6657\n",
            "mAP@0.5:            0.7208\n",
            "mAP@0.5:0.95:       0.3929\n",
            "\n",
            "🔍 Evaluating at confidence threshold: 0.1\n",
            "Ultralytics 8.3.132 🚀 Python-3.11.12 torch-2.6.0+cu124 CUDA:0 (Tesla T4, 15095MiB)\n",
            "\u001b[34m\u001b[1mval: \u001b[0mFast image access ✅ (ping: 0.0±0.0 ms, read: 947.4±483.4 MB/s, size: 38.7 KB)\n"
          ]
        },
        {
          "output_type": "stream",
          "name": "stderr",
          "text": [
            "\u001b[34m\u001b[1mval: \u001b[0mScanning /content/dataset/Acne_06_4/train/labels.cache... 11946 images, 39 backgrounds, 11 corrupt: 100%|██████████| 11946/11946 [00:00<?, ?it/s]"
          ]
        },
        {
          "output_type": "stream",
          "name": "stdout",
          "text": [
            "\u001b[34m\u001b[1mval: \u001b[0m/content/dataset/Acne_06_4/train/images/Grade1_24March_1084.jpg: 1 duplicate labels removed\n",
            "\u001b[34m\u001b[1mval: \u001b[0m/content/dataset/Acne_06_4/train/images/Grade1_24March_118.jpg: ignoring corrupt image/label: non-normalized or out of bounds coordinates [     1.2355]\n",
            "\u001b[34m\u001b[1mval: \u001b[0m/content/dataset/Acne_06_4/train/images/Grade1_24March_120.jpg: ignoring corrupt image/label: non-normalized or out of bounds coordinates [     1.5803      1.1974      1.3882      1.3211      1.3513      1.2882]\n",
            "\u001b[34m\u001b[1mval: \u001b[0m/content/dataset/Acne_06_4/train/images/Grade1_24March_126.jpg: ignoring corrupt image/label: non-normalized or out of bounds coordinates [     1.1737      1.4684       1.125         1.5      1.9171]\n",
            "\u001b[34m\u001b[1mval: \u001b[0m/content/dataset/Acne_06_4/train/images/Grade1_24March_146.jpg: ignoring corrupt image/label: non-normalized or out of bounds coordinates [     1.1763      1.3289      1.1461         1.9      1.1684      1.5197]\n",
            "\u001b[34m\u001b[1mval: \u001b[0m/content/dataset/Acne_06_4/train/images/Grade1_24March_191.jpg: ignoring corrupt image/label: non-normalized or out of bounds coordinates [     1.1263      1.2829      1.1671      1.5053      1.3461      1.2421]\n",
            "\u001b[34m\u001b[1mval: \u001b[0m/content/dataset/Acne_06_4/train/images/Grade1_24March_211.jpg: ignoring corrupt image/label: non-normalized or out of bounds coordinates [     2.0171         1.9      1.6105      1.6237      1.7276      1.7395      1.9408      1.4947      1.5158      1.9671]\n",
            "\u001b[34m\u001b[1mval: \u001b[0m/content/dataset/Acne_06_4/train/images/Grade1_24March_231.jpg: ignoring corrupt image/label: non-normalized or out of bounds coordinates [     1.3632      1.4013      1.1829      1.4553      1.1553      1.6276      1.1408      1.9592      1.3039      1.5605      1.6882      1.6658      1.5632      1.3711]\n",
            "\u001b[34m\u001b[1mval: \u001b[0m/content/dataset/Acne_06_4/train/images/Grade1_24March_245.jpg: ignoring corrupt image/label: non-normalized or out of bounds coordinates [     1.8816      1.2632      1.5408      1.3184      1.8316         1.1      1.8158]\n",
            "\u001b[34m\u001b[1mval: \u001b[0m/content/dataset/Acne_06_4/train/images/Grade1_24March_247.jpg: ignoring corrupt image/label: non-normalized or out of bounds coordinates [     1.8947      1.9632      1.8316      1.1105      1.9171]\n",
            "\u001b[34m\u001b[1mval: \u001b[0m/content/dataset/Acne_06_4/train/images/Grade1_24March_35.jpg: ignoring corrupt image/label: negative label values [  -0.002632]\n",
            "\u001b[34m\u001b[1mval: \u001b[0m/content/dataset/Acne_06_4/train/images/Grade1_24March_404.jpg: ignoring corrupt image/label: non-normalized or out of bounds coordinates [     1.0013]\n"
          ]
        },
        {
          "output_type": "stream",
          "name": "stderr",
          "text": [
            "\n",
            "                 Class     Images  Instances      Box(P          R      mAP50  mAP50-95): 100%|██████████| 746/746 [08:49<00:00,  1.41it/s]\n"
          ]
        },
        {
          "output_type": "stream",
          "name": "stdout",
          "text": [
            "                   all      11935     101427      0.705      0.666      0.725      0.403\n",
            "            blackheads       3910      10358       0.74      0.659      0.743      0.412\n",
            "             dark spot       4720      20274      0.744      0.834      0.856      0.529\n",
            "               nodules       1810      20781      0.668      0.534      0.607      0.284\n",
            "               papules       5884      16840      0.762      0.839      0.868      0.542\n",
            "              pustules       3858      19419       0.66      0.612      0.681      0.354\n",
            "            whiteheads       3604      13755      0.655      0.516      0.593      0.295\n",
            "Speed: 0.2ms preprocess, 38.5ms inference, 0.0ms loss, 1.0ms postprocess per image\n",
            "Results saved to \u001b[1mruns/detect/val24\u001b[0m\n",
            "Precision (mp):     0.7050\n",
            "Recall (mr):        0.6657\n",
            "mAP@0.5:            0.7246\n",
            "mAP@0.5:0.95:       0.4028\n",
            "\n",
            "🔍 Evaluating at confidence threshold: 0.25\n",
            "Ultralytics 8.3.132 🚀 Python-3.11.12 torch-2.6.0+cu124 CUDA:0 (Tesla T4, 15095MiB)\n",
            "\u001b[34m\u001b[1mval: \u001b[0mFast image access ✅ (ping: 0.0±0.0 ms, read: 425.2±470.1 MB/s, size: 37.2 KB)\n"
          ]
        },
        {
          "output_type": "stream",
          "name": "stderr",
          "text": [
            "\u001b[34m\u001b[1mval: \u001b[0mScanning /content/dataset/Acne_06_4/train/labels.cache... 11946 images, 39 backgrounds, 11 corrupt: 100%|██████████| 11946/11946 [00:00<?, ?it/s]"
          ]
        },
        {
          "output_type": "stream",
          "name": "stdout",
          "text": [
            "\u001b[34m\u001b[1mval: \u001b[0m/content/dataset/Acne_06_4/train/images/Grade1_24March_1084.jpg: 1 duplicate labels removed\n",
            "\u001b[34m\u001b[1mval: \u001b[0m/content/dataset/Acne_06_4/train/images/Grade1_24March_118.jpg: ignoring corrupt image/label: non-normalized or out of bounds coordinates [     1.2355]\n",
            "\u001b[34m\u001b[1mval: \u001b[0m/content/dataset/Acne_06_4/train/images/Grade1_24March_120.jpg: ignoring corrupt image/label: non-normalized or out of bounds coordinates [     1.5803      1.1974      1.3882      1.3211      1.3513      1.2882]\n",
            "\u001b[34m\u001b[1mval: \u001b[0m/content/dataset/Acne_06_4/train/images/Grade1_24March_126.jpg: ignoring corrupt image/label: non-normalized or out of bounds coordinates [     1.1737      1.4684       1.125         1.5      1.9171]\n",
            "\u001b[34m\u001b[1mval: \u001b[0m/content/dataset/Acne_06_4/train/images/Grade1_24March_146.jpg: ignoring corrupt image/label: non-normalized or out of bounds coordinates [     1.1763      1.3289      1.1461         1.9      1.1684      1.5197]\n",
            "\u001b[34m\u001b[1mval: \u001b[0m/content/dataset/Acne_06_4/train/images/Grade1_24March_191.jpg: ignoring corrupt image/label: non-normalized or out of bounds coordinates [     1.1263      1.2829      1.1671      1.5053      1.3461      1.2421]\n",
            "\u001b[34m\u001b[1mval: \u001b[0m/content/dataset/Acne_06_4/train/images/Grade1_24March_211.jpg: ignoring corrupt image/label: non-normalized or out of bounds coordinates [     2.0171         1.9      1.6105      1.6237      1.7276      1.7395      1.9408      1.4947      1.5158      1.9671]\n",
            "\u001b[34m\u001b[1mval: \u001b[0m/content/dataset/Acne_06_4/train/images/Grade1_24March_231.jpg: ignoring corrupt image/label: non-normalized or out of bounds coordinates [     1.3632      1.4013      1.1829      1.4553      1.1553      1.6276      1.1408      1.9592      1.3039      1.5605      1.6882      1.6658      1.5632      1.3711]\n",
            "\u001b[34m\u001b[1mval: \u001b[0m/content/dataset/Acne_06_4/train/images/Grade1_24March_245.jpg: ignoring corrupt image/label: non-normalized or out of bounds coordinates [     1.8816      1.2632      1.5408      1.3184      1.8316         1.1      1.8158]\n",
            "\u001b[34m\u001b[1mval: \u001b[0m/content/dataset/Acne_06_4/train/images/Grade1_24March_247.jpg: ignoring corrupt image/label: non-normalized or out of bounds coordinates [     1.8947      1.9632      1.8316      1.1105      1.9171]\n",
            "\u001b[34m\u001b[1mval: \u001b[0m/content/dataset/Acne_06_4/train/images/Grade1_24March_35.jpg: ignoring corrupt image/label: negative label values [  -0.002632]\n",
            "\u001b[34m\u001b[1mval: \u001b[0m/content/dataset/Acne_06_4/train/images/Grade1_24March_404.jpg: ignoring corrupt image/label: non-normalized or out of bounds coordinates [     1.0013]\n"
          ]
        },
        {
          "output_type": "stream",
          "name": "stderr",
          "text": [
            "\n",
            "                 Class     Images  Instances      Box(P          R      mAP50  mAP50-95): 100%|██████████| 746/746 [08:45<00:00,  1.42it/s]\n"
          ]
        },
        {
          "output_type": "stream",
          "name": "stdout",
          "text": [
            "                   all      11935     101427      0.684      0.682      0.723      0.419\n",
            "            blackheads       3910      10358      0.722       0.67       0.74      0.427\n",
            "             dark spot       4720      20274      0.726      0.843       0.85      0.539\n",
            "               nodules       1810      20781      0.644      0.561      0.613      0.311\n",
            "               papules       5884      16840      0.747       0.85      0.858      0.549\n",
            "              pustules       3858      19419      0.637      0.635      0.676      0.373\n",
            "            whiteheads       3604      13755      0.629      0.534      0.602      0.317\n",
            "Speed: 0.3ms preprocess, 38.6ms inference, 0.0ms loss, 0.9ms postprocess per image\n",
            "Results saved to \u001b[1mruns/detect/val25\u001b[0m\n",
            "Precision (mp):     0.6842\n",
            "Recall (mr):        0.6821\n",
            "mAP@0.5:            0.7229\n",
            "mAP@0.5:0.95:       0.4194\n",
            "\n",
            "🔍 Evaluating at confidence threshold: 0.4\n",
            "Ultralytics 8.3.132 🚀 Python-3.11.12 torch-2.6.0+cu124 CUDA:0 (Tesla T4, 15095MiB)\n",
            "\u001b[34m\u001b[1mval: \u001b[0mFast image access ✅ (ping: 0.0±0.0 ms, read: 1216.6±313.1 MB/s, size: 41.1 KB)\n"
          ]
        },
        {
          "output_type": "stream",
          "name": "stderr",
          "text": [
            "\u001b[34m\u001b[1mval: \u001b[0mScanning /content/dataset/Acne_06_4/train/labels.cache... 11946 images, 39 backgrounds, 11 corrupt: 100%|██████████| 11946/11946 [00:00<?, ?it/s]"
          ]
        },
        {
          "output_type": "stream",
          "name": "stdout",
          "text": [
            "\u001b[34m\u001b[1mval: \u001b[0m/content/dataset/Acne_06_4/train/images/Grade1_24March_1084.jpg: 1 duplicate labels removed\n",
            "\u001b[34m\u001b[1mval: \u001b[0m/content/dataset/Acne_06_4/train/images/Grade1_24March_118.jpg: ignoring corrupt image/label: non-normalized or out of bounds coordinates [     1.2355]\n",
            "\u001b[34m\u001b[1mval: \u001b[0m/content/dataset/Acne_06_4/train/images/Grade1_24March_120.jpg: ignoring corrupt image/label: non-normalized or out of bounds coordinates [     1.5803      1.1974      1.3882      1.3211      1.3513      1.2882]\n",
            "\u001b[34m\u001b[1mval: \u001b[0m/content/dataset/Acne_06_4/train/images/Grade1_24March_126.jpg: ignoring corrupt image/label: non-normalized or out of bounds coordinates [     1.1737      1.4684       1.125         1.5      1.9171]\n",
            "\u001b[34m\u001b[1mval: \u001b[0m/content/dataset/Acne_06_4/train/images/Grade1_24March_146.jpg: ignoring corrupt image/label: non-normalized or out of bounds coordinates [     1.1763      1.3289      1.1461         1.9      1.1684      1.5197]\n",
            "\u001b[34m\u001b[1mval: \u001b[0m/content/dataset/Acne_06_4/train/images/Grade1_24March_191.jpg: ignoring corrupt image/label: non-normalized or out of bounds coordinates [     1.1263      1.2829      1.1671      1.5053      1.3461      1.2421]\n",
            "\u001b[34m\u001b[1mval: \u001b[0m/content/dataset/Acne_06_4/train/images/Grade1_24March_211.jpg: ignoring corrupt image/label: non-normalized or out of bounds coordinates [     2.0171         1.9      1.6105      1.6237      1.7276      1.7395      1.9408      1.4947      1.5158      1.9671]\n",
            "\u001b[34m\u001b[1mval: \u001b[0m/content/dataset/Acne_06_4/train/images/Grade1_24March_231.jpg: ignoring corrupt image/label: non-normalized or out of bounds coordinates [     1.3632      1.4013      1.1829      1.4553      1.1553      1.6276      1.1408      1.9592      1.3039      1.5605      1.6882      1.6658      1.5632      1.3711]\n",
            "\u001b[34m\u001b[1mval: \u001b[0m/content/dataset/Acne_06_4/train/images/Grade1_24March_245.jpg: ignoring corrupt image/label: non-normalized or out of bounds coordinates [     1.8816      1.2632      1.5408      1.3184      1.8316         1.1      1.8158]\n",
            "\u001b[34m\u001b[1mval: \u001b[0m/content/dataset/Acne_06_4/train/images/Grade1_24March_247.jpg: ignoring corrupt image/label: non-normalized or out of bounds coordinates [     1.8947      1.9632      1.8316      1.1105      1.9171]\n",
            "\u001b[34m\u001b[1mval: \u001b[0m/content/dataset/Acne_06_4/train/images/Grade1_24March_35.jpg: ignoring corrupt image/label: negative label values [  -0.002632]\n",
            "\u001b[34m\u001b[1mval: \u001b[0m/content/dataset/Acne_06_4/train/images/Grade1_24March_404.jpg: ignoring corrupt image/label: non-normalized or out of bounds coordinates [     1.0013]\n"
          ]
        },
        {
          "output_type": "stream",
          "name": "stderr",
          "text": [
            "\n",
            "                 Class     Images  Instances      Box(P          R      mAP50  mAP50-95): 100%|██████████| 746/746 [08:41<00:00,  1.43it/s]\n"
          ]
        },
        {
          "output_type": "stream",
          "name": "stdout",
          "text": [
            "                   all      11935     101427      0.801       0.57      0.704      0.428\n",
            "            blackheads       3910      10358       0.82      0.589      0.726      0.432\n",
            "             dark spot       4720      20274      0.819      0.778      0.832       0.54\n",
            "               nodules       1810      20781      0.784      0.375      0.581       0.33\n",
            "               papules       5884      16840      0.834      0.779      0.837      0.546\n",
            "              pustules       3858      19419      0.782      0.488      0.654      0.389\n",
            "            whiteheads       3604      13755      0.765      0.412      0.594      0.331\n",
            "Speed: 0.2ms preprocess, 38.7ms inference, 0.0ms loss, 0.9ms postprocess per image\n",
            "Results saved to \u001b[1mruns/detect/val26\u001b[0m\n",
            "Precision (mp):     0.8006\n",
            "Recall (mr):        0.5700\n",
            "mAP@0.5:            0.7041\n",
            "mAP@0.5:0.95:       0.4282\n",
            "\n",
            "🔍 Evaluating at confidence threshold: 0.5\n",
            "Ultralytics 8.3.132 🚀 Python-3.11.12 torch-2.6.0+cu124 CUDA:0 (Tesla T4, 15095MiB)\n",
            "\u001b[34m\u001b[1mval: \u001b[0mFast image access ✅ (ping: 0.0±0.0 ms, read: 1139.1±494.7 MB/s, size: 38.6 KB)\n"
          ]
        },
        {
          "output_type": "stream",
          "name": "stderr",
          "text": [
            "\u001b[34m\u001b[1mval: \u001b[0mScanning /content/dataset/Acne_06_4/train/labels.cache... 11946 images, 39 backgrounds, 11 corrupt: 100%|██████████| 11946/11946 [00:00<?, ?it/s]"
          ]
        },
        {
          "output_type": "stream",
          "name": "stdout",
          "text": [
            "\u001b[34m\u001b[1mval: \u001b[0m/content/dataset/Acne_06_4/train/images/Grade1_24March_1084.jpg: 1 duplicate labels removed\n",
            "\u001b[34m\u001b[1mval: \u001b[0m/content/dataset/Acne_06_4/train/images/Grade1_24March_118.jpg: ignoring corrupt image/label: non-normalized or out of bounds coordinates [     1.2355]\n",
            "\u001b[34m\u001b[1mval: \u001b[0m/content/dataset/Acne_06_4/train/images/Grade1_24March_120.jpg: ignoring corrupt image/label: non-normalized or out of bounds coordinates [     1.5803      1.1974      1.3882      1.3211      1.3513      1.2882]\n",
            "\u001b[34m\u001b[1mval: \u001b[0m/content/dataset/Acne_06_4/train/images/Grade1_24March_126.jpg: ignoring corrupt image/label: non-normalized or out of bounds coordinates [     1.1737      1.4684       1.125         1.5      1.9171]\n",
            "\u001b[34m\u001b[1mval: \u001b[0m/content/dataset/Acne_06_4/train/images/Grade1_24March_146.jpg: ignoring corrupt image/label: non-normalized or out of bounds coordinates [     1.1763      1.3289      1.1461         1.9      1.1684      1.5197]\n",
            "\u001b[34m\u001b[1mval: \u001b[0m/content/dataset/Acne_06_4/train/images/Grade1_24March_191.jpg: ignoring corrupt image/label: non-normalized or out of bounds coordinates [     1.1263      1.2829      1.1671      1.5053      1.3461      1.2421]\n",
            "\u001b[34m\u001b[1mval: \u001b[0m/content/dataset/Acne_06_4/train/images/Grade1_24March_211.jpg: ignoring corrupt image/label: non-normalized or out of bounds coordinates [     2.0171         1.9      1.6105      1.6237      1.7276      1.7395      1.9408      1.4947      1.5158      1.9671]\n",
            "\u001b[34m\u001b[1mval: \u001b[0m/content/dataset/Acne_06_4/train/images/Grade1_24March_231.jpg: ignoring corrupt image/label: non-normalized or out of bounds coordinates [     1.3632      1.4013      1.1829      1.4553      1.1553      1.6276      1.1408      1.9592      1.3039      1.5605      1.6882      1.6658      1.5632      1.3711]\n",
            "\u001b[34m\u001b[1mval: \u001b[0m/content/dataset/Acne_06_4/train/images/Grade1_24March_245.jpg: ignoring corrupt image/label: non-normalized or out of bounds coordinates [     1.8816      1.2632      1.5408      1.3184      1.8316         1.1      1.8158]\n",
            "\u001b[34m\u001b[1mval: \u001b[0m/content/dataset/Acne_06_4/train/images/Grade1_24March_247.jpg: ignoring corrupt image/label: non-normalized or out of bounds coordinates [     1.8947      1.9632      1.8316      1.1105      1.9171]\n",
            "\u001b[34m\u001b[1mval: \u001b[0m/content/dataset/Acne_06_4/train/images/Grade1_24March_35.jpg: ignoring corrupt image/label: negative label values [  -0.002632]\n",
            "\u001b[34m\u001b[1mval: \u001b[0m/content/dataset/Acne_06_4/train/images/Grade1_24March_404.jpg: ignoring corrupt image/label: non-normalized or out of bounds coordinates [     1.0013]\n"
          ]
        },
        {
          "output_type": "stream",
          "name": "stderr",
          "text": [
            "\n",
            "                 Class     Images  Instances      Box(P          R      mAP50  mAP50-95): 100%|██████████| 746/746 [08:40<00:00,  1.43it/s]\n"
          ]
        },
        {
          "output_type": "stream",
          "name": "stdout",
          "text": [
            "                   all      11935     101427      0.864      0.484      0.684      0.432\n",
            "            blackheads       3910      10358      0.873      0.518      0.707      0.431\n",
            "             dark spot       4720      20274      0.871      0.716      0.813      0.537\n",
            "               nodules       1810      20781      0.857      0.246      0.553      0.349\n",
            "               papules       5884      16840      0.885      0.713      0.816       0.54\n",
            "              pustules       3858      19419      0.864       0.39      0.637        0.4\n",
            "            whiteheads       3604      13755      0.833       0.32      0.578      0.336\n",
            "Speed: 0.3ms preprocess, 38.7ms inference, 0.0ms loss, 0.9ms postprocess per image\n",
            "Results saved to \u001b[1mruns/detect/val27\u001b[0m\n",
            "Precision (mp):     0.8635\n",
            "Recall (mr):        0.4839\n",
            "mAP@0.5:            0.6840\n",
            "mAP@0.5:0.95:       0.4321\n",
            "\n",
            "🔍 Evaluating at confidence threshold: 0.6\n",
            "Ultralytics 8.3.132 🚀 Python-3.11.12 torch-2.6.0+cu124 CUDA:0 (Tesla T4, 15095MiB)\n",
            "\u001b[34m\u001b[1mval: \u001b[0mFast image access ✅ (ping: 0.0±0.0 ms, read: 1424.8±488.5 MB/s, size: 40.3 KB)\n"
          ]
        },
        {
          "output_type": "stream",
          "name": "stderr",
          "text": [
            "\u001b[34m\u001b[1mval: \u001b[0mScanning /content/dataset/Acne_06_4/train/labels.cache... 11946 images, 39 backgrounds, 11 corrupt: 100%|██████████| 11946/11946 [00:00<?, ?it/s]"
          ]
        },
        {
          "output_type": "stream",
          "name": "stdout",
          "text": [
            "\u001b[34m\u001b[1mval: \u001b[0m/content/dataset/Acne_06_4/train/images/Grade1_24March_1084.jpg: 1 duplicate labels removed\n",
            "\u001b[34m\u001b[1mval: \u001b[0m/content/dataset/Acne_06_4/train/images/Grade1_24March_118.jpg: ignoring corrupt image/label: non-normalized or out of bounds coordinates [     1.2355]\n",
            "\u001b[34m\u001b[1mval: \u001b[0m/content/dataset/Acne_06_4/train/images/Grade1_24March_120.jpg: ignoring corrupt image/label: non-normalized or out of bounds coordinates [     1.5803      1.1974      1.3882      1.3211      1.3513      1.2882]\n",
            "\u001b[34m\u001b[1mval: \u001b[0m/content/dataset/Acne_06_4/train/images/Grade1_24March_126.jpg: ignoring corrupt image/label: non-normalized or out of bounds coordinates [     1.1737      1.4684       1.125         1.5      1.9171]\n",
            "\u001b[34m\u001b[1mval: \u001b[0m/content/dataset/Acne_06_4/train/images/Grade1_24March_146.jpg: ignoring corrupt image/label: non-normalized or out of bounds coordinates [     1.1763      1.3289      1.1461         1.9      1.1684      1.5197]\n",
            "\u001b[34m\u001b[1mval: \u001b[0m/content/dataset/Acne_06_4/train/images/Grade1_24March_191.jpg: ignoring corrupt image/label: non-normalized or out of bounds coordinates [     1.1263      1.2829      1.1671      1.5053      1.3461      1.2421]\n",
            "\u001b[34m\u001b[1mval: \u001b[0m/content/dataset/Acne_06_4/train/images/Grade1_24March_211.jpg: ignoring corrupt image/label: non-normalized or out of bounds coordinates [     2.0171         1.9      1.6105      1.6237      1.7276      1.7395      1.9408      1.4947      1.5158      1.9671]\n",
            "\u001b[34m\u001b[1mval: \u001b[0m/content/dataset/Acne_06_4/train/images/Grade1_24March_231.jpg: ignoring corrupt image/label: non-normalized or out of bounds coordinates [     1.3632      1.4013      1.1829      1.4553      1.1553      1.6276      1.1408      1.9592      1.3039      1.5605      1.6882      1.6658      1.5632      1.3711]\n",
            "\u001b[34m\u001b[1mval: \u001b[0m/content/dataset/Acne_06_4/train/images/Grade1_24March_245.jpg: ignoring corrupt image/label: non-normalized or out of bounds coordinates [     1.8816      1.2632      1.5408      1.3184      1.8316         1.1      1.8158]\n",
            "\u001b[34m\u001b[1mval: \u001b[0m/content/dataset/Acne_06_4/train/images/Grade1_24March_247.jpg: ignoring corrupt image/label: non-normalized or out of bounds coordinates [     1.8947      1.9632      1.8316      1.1105      1.9171]\n",
            "\u001b[34m\u001b[1mval: \u001b[0m/content/dataset/Acne_06_4/train/images/Grade1_24March_35.jpg: ignoring corrupt image/label: negative label values [  -0.002632]\n",
            "\u001b[34m\u001b[1mval: \u001b[0m/content/dataset/Acne_06_4/train/images/Grade1_24March_404.jpg: ignoring corrupt image/label: non-normalized or out of bounds coordinates [     1.0013]\n"
          ]
        },
        {
          "output_type": "stream",
          "name": "stderr",
          "text": [
            "\n",
            "                 Class     Images  Instances      Box(P          R      mAP50  mAP50-95): 100%|██████████| 746/746 [08:36<00:00,  1.44it/s]\n"
          ]
        },
        {
          "output_type": "stream",
          "name": "stdout",
          "text": [
            "                   all      11935     101427      0.916      0.391      0.658      0.434\n",
            "            blackheads       3910      10358      0.922      0.412      0.673      0.423\n",
            "             dark spot       4720      20274      0.917      0.622      0.778      0.527\n",
            "               nodules       1810      20781      0.915      0.154      0.536      0.377\n",
            "               papules       5884      16840      0.927      0.617      0.779      0.526\n",
            "              pustules       3858      19419      0.922      0.313      0.621      0.409\n",
            "            whiteheads       3604      13755      0.889      0.231       0.56      0.341\n",
            "Speed: 0.3ms preprocess, 38.8ms inference, 0.0ms loss, 0.8ms postprocess per image\n",
            "Results saved to \u001b[1mruns/detect/val28\u001b[0m\n",
            "Precision (mp):     0.9156\n",
            "Recall (mr):        0.3914\n",
            "mAP@0.5:            0.6579\n",
            "mAP@0.5:0.95:       0.4339\n"
          ]
        }
      ]
    },
    {
      "cell_type": "markdown",
      "metadata": {
        "id": "YPWkDTmH4f_e"
      },
      "source": []
    }
  ],
  "metadata": {
    "accelerator": "GPU",
    "colab": {
      "gpuType": "T4",
      "provenance": []
    },
    "kernelspec": {
      "display_name": "Python 3",
      "name": "python3"
    },
    "language_info": {
      "name": "python"
    }
  },
  "nbformat": 4,
  "nbformat_minor": 0
}